{
 "cells": [
  {
   "cell_type": "code",
   "execution_count": 5,
   "metadata": {},
   "outputs": [],
   "source": [
    "import pandas as pd\n",
    "import matplotlib.pyplot as plt"
   ]
  },
  {
   "cell_type": "code",
   "execution_count": 4,
   "metadata": {},
   "outputs": [],
   "source": [
    "df_vist = pd.read_csv('Hospital Outpatient Data_NH_cleaned.zip')"
   ]
  },
  {
   "cell_type": "code",
   "execution_count": 7,
   "metadata": {},
   "outputs": [
    {
     "data": {
      "text/html": [
       "<div>\n",
       "<style scoped>\n",
       "    .dataframe tbody tr th:only-of-type {\n",
       "        vertical-align: middle;\n",
       "    }\n",
       "\n",
       "    .dataframe tbody tr th {\n",
       "        vertical-align: top;\n",
       "    }\n",
       "\n",
       "    .dataframe thead th {\n",
       "        text-align: right;\n",
       "    }\n",
       "</style>\n",
       "<table border=\"1\" class=\"dataframe\">\n",
       "  <thead>\n",
       "    <tr style=\"text-align: right;\">\n",
       "      <th></th>\n",
       "      <th>Visit_Date</th>\n",
       "      <th>Patient_ID</th>\n",
       "      <th>Age</th>\n",
       "      <th>Gender</th>\n",
       "      <th>Diagnosis</th>\n",
       "      <th>Has_Insurance</th>\n",
       "      <th>Postcode</th>\n",
       "      <th>Total_Cost</th>\n",
       "      <th>Registration Minutes</th>\n",
       "      <th>Nursing Minuts</th>\n",
       "      <th>Laboratory Minutes</th>\n",
       "      <th>Consultation Minutes</th>\n",
       "      <th>Pharmacy Minutes</th>\n",
       "    </tr>\n",
       "  </thead>\n",
       "  <tbody>\n",
       "    <tr>\n",
       "      <th>0</th>\n",
       "      <td>2020-05-06</td>\n",
       "      <td>688923</td>\n",
       "      <td>68</td>\n",
       "      <td>Female</td>\n",
       "      <td>Diabetes</td>\n",
       "      <td>True</td>\n",
       "      <td>20006</td>\n",
       "      <td>2274.0</td>\n",
       "      <td>33</td>\n",
       "      <td>105</td>\n",
       "      <td>101</td>\n",
       "      <td>28</td>\n",
       "      <td>112</td>\n",
       "    </tr>\n",
       "  </tbody>\n",
       "</table>\n",
       "</div>"
      ],
      "text/plain": [
       "   Visit_Date  Patient_ID  Age  Gender Diagnosis  Has_Insurance  Postcode  \\\n",
       "0  2020-05-06      688923   68  Female  Diabetes           True     20006   \n",
       "\n",
       "   Total_Cost  Registration Minutes  Nursing Minuts  Laboratory Minutes  \\\n",
       "0      2274.0                    33             105                 101   \n",
       "\n",
       "   Consultation Minutes  Pharmacy Minutes  \n",
       "0                    28               112  "
      ]
     },
     "execution_count": 7,
     "metadata": {},
     "output_type": "execute_result"
    }
   ],
   "source": [
    "df_vist.head(1\n",
    "             )"
   ]
  },
  {
   "cell_type": "code",
   "execution_count": 9,
   "metadata": {},
   "outputs": [],
   "source": [
    "df_vist['Total Time  (Minutes)'] = df_vist['Registration Minutes'] + df_vist['Nursing Minuts']+ df_vist['Laboratory Minutes']+ df_vist['Consultation Minutes'] + df_vist['Pharmacy Minutes']"
   ]
  },
  {
   "cell_type": "code",
   "execution_count": 12,
   "metadata": {},
   "outputs": [
    {
     "data": {
      "text/html": [
       "<div>\n",
       "<style scoped>\n",
       "    .dataframe tbody tr th:only-of-type {\n",
       "        vertical-align: middle;\n",
       "    }\n",
       "\n",
       "    .dataframe tbody tr th {\n",
       "        vertical-align: top;\n",
       "    }\n",
       "\n",
       "    .dataframe thead th {\n",
       "        text-align: right;\n",
       "    }\n",
       "</style>\n",
       "<table border=\"1\" class=\"dataframe\">\n",
       "  <thead>\n",
       "    <tr style=\"text-align: right;\">\n",
       "      <th></th>\n",
       "      <th>Visit_Date</th>\n",
       "      <th>Patient_ID</th>\n",
       "      <th>Age</th>\n",
       "      <th>Gender</th>\n",
       "      <th>Diagnosis</th>\n",
       "      <th>Has_Insurance</th>\n",
       "      <th>Postcode</th>\n",
       "      <th>Total_Cost</th>\n",
       "      <th>Registration Minutes</th>\n",
       "      <th>Nursing Minuts</th>\n",
       "      <th>Laboratory Minutes</th>\n",
       "      <th>Consultation Minutes</th>\n",
       "      <th>Pharmacy Minutes</th>\n",
       "      <th>Total Time  (Minutes)</th>\n",
       "      <th>Total Time (Hours)</th>\n",
       "    </tr>\n",
       "  </thead>\n",
       "  <tbody>\n",
       "    <tr>\n",
       "      <th>0</th>\n",
       "      <td>2020-05-06</td>\n",
       "      <td>688923</td>\n",
       "      <td>68</td>\n",
       "      <td>Female</td>\n",
       "      <td>Diabetes</td>\n",
       "      <td>True</td>\n",
       "      <td>20006</td>\n",
       "      <td>2274.0</td>\n",
       "      <td>33</td>\n",
       "      <td>105</td>\n",
       "      <td>101</td>\n",
       "      <td>28</td>\n",
       "      <td>112</td>\n",
       "      <td>379</td>\n",
       "      <td>6.316667</td>\n",
       "    </tr>\n",
       "    <tr>\n",
       "      <th>1</th>\n",
       "      <td>2018-08-04</td>\n",
       "      <td>886361</td>\n",
       "      <td>62</td>\n",
       "      <td>Female</td>\n",
       "      <td>Urinary Tract Infection</td>\n",
       "      <td>False</td>\n",
       "      <td>20005</td>\n",
       "      <td>3430.0</td>\n",
       "      <td>46</td>\n",
       "      <td>75</td>\n",
       "      <td>84</td>\n",
       "      <td>102</td>\n",
       "      <td>36</td>\n",
       "      <td>343</td>\n",
       "      <td>5.716667</td>\n",
       "    </tr>\n",
       "    <tr>\n",
       "      <th>2</th>\n",
       "      <td>2021-04-10</td>\n",
       "      <td>464823</td>\n",
       "      <td>70</td>\n",
       "      <td>Female</td>\n",
       "      <td>Upper Respiratory Tract Infection</td>\n",
       "      <td>True</td>\n",
       "      <td>10003</td>\n",
       "      <td>1836.0</td>\n",
       "      <td>107</td>\n",
       "      <td>81</td>\n",
       "      <td>5</td>\n",
       "      <td>77</td>\n",
       "      <td>36</td>\n",
       "      <td>306</td>\n",
       "      <td>5.100000</td>\n",
       "    </tr>\n",
       "    <tr>\n",
       "      <th>3</th>\n",
       "      <td>2021-10-01</td>\n",
       "      <td>655214</td>\n",
       "      <td>8</td>\n",
       "      <td>Female</td>\n",
       "      <td>Upper Respiratory Tract Infection</td>\n",
       "      <td>False</td>\n",
       "      <td>10006</td>\n",
       "      <td>3250.0</td>\n",
       "      <td>66</td>\n",
       "      <td>31</td>\n",
       "      <td>101</td>\n",
       "      <td>35</td>\n",
       "      <td>92</td>\n",
       "      <td>325</td>\n",
       "      <td>5.416667</td>\n",
       "    </tr>\n",
       "    <tr>\n",
       "      <th>4</th>\n",
       "      <td>2018-04-30</td>\n",
       "      <td>454666</td>\n",
       "      <td>24</td>\n",
       "      <td>Male</td>\n",
       "      <td>Malaria</td>\n",
       "      <td>True</td>\n",
       "      <td>10006</td>\n",
       "      <td>2262.0</td>\n",
       "      <td>68</td>\n",
       "      <td>55</td>\n",
       "      <td>60</td>\n",
       "      <td>90</td>\n",
       "      <td>104</td>\n",
       "      <td>377</td>\n",
       "      <td>6.283333</td>\n",
       "    </tr>\n",
       "  </tbody>\n",
       "</table>\n",
       "</div>"
      ],
      "text/plain": [
       "   Visit_Date  Patient_ID  Age  Gender                          Diagnosis  \\\n",
       "0  2020-05-06      688923   68  Female                           Diabetes   \n",
       "1  2018-08-04      886361   62  Female            Urinary Tract Infection   \n",
       "2  2021-04-10      464823   70  Female  Upper Respiratory Tract Infection   \n",
       "3  2021-10-01      655214    8  Female  Upper Respiratory Tract Infection   \n",
       "4  2018-04-30      454666   24    Male                            Malaria   \n",
       "\n",
       "   Has_Insurance  Postcode  Total_Cost  Registration Minutes  Nursing Minuts  \\\n",
       "0           True     20006      2274.0                    33             105   \n",
       "1          False     20005      3430.0                    46              75   \n",
       "2           True     10003      1836.0                   107              81   \n",
       "3          False     10006      3250.0                    66              31   \n",
       "4           True     10006      2262.0                    68              55   \n",
       "\n",
       "   Laboratory Minutes  Consultation Minutes  Pharmacy Minutes  \\\n",
       "0                 101                    28               112   \n",
       "1                  84                   102                36   \n",
       "2                   5                    77                36   \n",
       "3                 101                    35                92   \n",
       "4                  60                    90               104   \n",
       "\n",
       "   Total Time  (Minutes)  Total Time (Hours)  \n",
       "0                    379            6.316667  \n",
       "1                    343            5.716667  \n",
       "2                    306            5.100000  \n",
       "3                    325            5.416667  \n",
       "4                    377            6.283333  "
      ]
     },
     "execution_count": 12,
     "metadata": {},
     "output_type": "execute_result"
    }
   ],
   "source": [
    "df_vist['Total Time (Hours)'] = df_vist['Total Time  (Minutes)'] / 60\n",
    "df_vist.head(5)"
   ]
  },
  {
   "cell_type": "code",
   "execution_count": 14,
   "metadata": {},
   "outputs": [
    {
     "data": {
      "text/plain": [
       "5.209838183333332"
      ]
     },
     "execution_count": 14,
     "metadata": {},
     "output_type": "execute_result"
    }
   ],
   "source": [
    "avarage_total_time_in_hours = df_vist['Total Time (Hours)'].mean()\n",
    "avarage_total_time_in_hours"
   ]
  },
  {
   "cell_type": "code",
   "execution_count": 19,
   "metadata": {},
   "outputs": [],
   "source": [
    "max_time_department = df_vist[['Consultation Minutes','Registration Minutes','Nursing Minuts','Laboratory Minutes','Pharmacy Minutes']].sum().idxmax()"
   ]
  },
  {
   "cell_type": "code",
   "execution_count": 20,
   "metadata": {},
   "outputs": [
    {
     "data": {
      "text/plain": [
       "'Registration Minutes'"
      ]
     },
     "execution_count": 20,
     "metadata": {},
     "output_type": "execute_result"
    }
   ],
   "source": [
    "max_time_department"
   ]
  },
  {
   "cell_type": "code",
   "execution_count": 23,
   "metadata": {},
   "outputs": [
    {
     "data": {
      "text/plain": [
       "120"
      ]
     },
     "execution_count": 23,
     "metadata": {},
     "output_type": "execute_result"
    }
   ],
   "source": [
    "df_vist['Registration Minutes'].max()"
   ]
  },
  {
   "cell_type": "code",
   "execution_count": 22,
   "metadata": {},
   "outputs": [
    {
     "data": {
      "text/plain": [
       "5"
      ]
     },
     "execution_count": 22,
     "metadata": {},
     "output_type": "execute_result"
    }
   ],
   "source": [
    "df_vist['Registration Minutes'].min()"
   ]
  },
  {
   "cell_type": "code",
   "execution_count": 24,
   "metadata": {},
   "outputs": [],
   "source": [
    "def department_wait_time_statistics(df, wait_time_column):\n",
    "    wait_time_minutes = df[wait_time_column]\n",
    "    wait_time_hours = wait_time_minutes / 60\n",
    "\n",
    "    min_time = wait_time_hours.min()\n",
    "    max_time = wait_time_hours.max()\n",
    "    mean_time = wait_time_hours.mean()\n",
    "    median_time = wait_time_hours.median()\n",
    "    std_dev = wait_time_hours.std()\n",
    "\n",
    "    sentence = f\"For the department'{wait_time_column}', wait times range from {min_time:.2f} hours to {max_time:.2f} hours \"\\\n",
    "    f\"The average wait time is {mean_time:.2f} hours, with a median of {median_time:.2f} hours\" \\\n",
    "    f\"The standard deviation is {std_dev:.2f} hours\"\n",
    "\n",
    "    return sentence\n"
   ]
  },
  {
   "cell_type": "code",
   "execution_count": 29,
   "metadata": {},
   "outputs": [
    {
     "data": {
      "text/plain": [
       "\"For the department'Nursing Minuts', wait times range from 0.08 hours to 2.00 hours The average wait time is 1.04 hours, with a median of 1.05 hoursThe standard deviation is 0.56 hours\""
      ]
     },
     "execution_count": 29,
     "metadata": {},
     "output_type": "execute_result"
    }
   ],
   "source": [
    "department_wait_time_statistics(df_vist,'Nursing Minuts')"
   ]
  },
  {
   "cell_type": "code",
   "execution_count": 27,
   "metadata": {},
   "outputs": [
    {
     "data": {
      "text/plain": [
       "\"For the department'Nursing Minuts', wait times range from 0.08 hours to 2.00 hours The average wait time is 1.04 hours, with a median of 1.05 hoursThe standard deviation is 0.56 hours\""
      ]
     },
     "execution_count": 27,
     "metadata": {},
     "output_type": "execute_result"
    }
   ],
   "source": [
    "department_wait_time_statistics(df_vist,'Nursing Minuts')"
   ]
  },
  {
   "cell_type": "code",
   "execution_count": 30,
   "metadata": {},
   "outputs": [],
   "source": [
    "def department_wait_time_statistics(df, department_name):\n",
    "    if department_name not in df.columns:\n",
    "        return f\"Department '{department_name}' not found in the DataFrame\"\n",
    "    wait_time_minutes = df[department_name]\n",
    "    wait_time_hours = wait_time_minutes / 60\n",
    "\n",
    "    min_time = wait_time_hours.min()\n",
    "    max_time = wait_time_hours.max()\n",
    "    mean_time = wait_time_hours.mean()\n",
    "    median_time = wait_time_hours.median()\n",
    "    std_dev = wait_time_hours.std()\n",
    "\n",
    "    sentence = f\"For the department'{department_name}', wait times range from {min_time:.2f} hours to {max_time:.2f} hours \"\\\n",
    "    f\"The average wait time is {mean_time:.2f} hours, with a median of {median_time:.2f} hours\" \\\n",
    "    f\"The standard deviation is {std_dev:.2f} hours\"\n",
    "\n",
    "    return sentence"
   ]
  },
  {
   "cell_type": "code",
   "execution_count": 31,
   "metadata": {},
   "outputs": [
    {
     "ename": "NameError",
     "evalue": "name 'df_visit' is not defined",
     "output_type": "error",
     "traceback": [
      "\u001b[0;31m---------------------------------------------------------------------------\u001b[0m",
      "\u001b[0;31mNameError\u001b[0m                                 Traceback (most recent call last)",
      "Cell \u001b[0;32mIn[31], line 1\u001b[0m\n\u001b[0;32m----> 1\u001b[0m department_wait_time_statistics(\u001b[43mdf_visit\u001b[49m,\u001b[38;5;124m'\u001b[39m\u001b[38;5;124mNursing(seconds)\u001b[39m\u001b[38;5;124m'\u001b[39m)\n",
      "\u001b[0;31mNameError\u001b[0m: name 'df_visit' is not defined"
     ]
    }
   ],
   "source": [
    "department_wait_time_statistics(df_visit,'Nursing(seconds)')"
   ]
  }
 ],
 "metadata": {
  "kernelspec": {
   "display_name": "base",
   "language": "python",
   "name": "python3"
  },
  "language_info": {
   "codemirror_mode": {
    "name": "ipython",
    "version": 3
   },
   "file_extension": ".py",
   "mimetype": "text/x-python",
   "name": "python",
   "nbconvert_exporter": "python",
   "pygments_lexer": "ipython3",
   "version": "3.10.9"
  }
 },
 "nbformat": 4,
 "nbformat_minor": 2
}
